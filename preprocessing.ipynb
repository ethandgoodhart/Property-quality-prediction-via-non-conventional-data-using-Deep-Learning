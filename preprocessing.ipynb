{
  "nbformat": 4,
  "nbformat_minor": 0,
  "metadata": {
    "colab": {
      "provenance": []
    },
    "kernelspec": {
      "name": "python3",
      "display_name": "Python 3"
    },
    "language_info": {
      "name": "python"
    }
  },
  "cells": [
    {
      "cell_type": "code",
      "execution_count": 1,
      "metadata": {
        "id": "2NjEULCABsYy"
      },
      "outputs": [],
      "source": [
        "#\n",
        "#  Fetching data from travelweekly to be used to help train model.\n",
        "#\n",
        "# >>> travelweekly.get_hotel(hotel) ->\n",
        "# {'travelweekly_year_built': __, 'travelweekly_num_floors': __, 'travelweekly_num_rooms': __, 'travelweekly_chain': __, 'travelweekly_events_num_rooms': __, 'travelweekly_events_total_sqft': __, 'travelweekly_min_rate': __, 'travelweekly_max_rate': __}\n",
        "#\n",
        "\n",
        "from bs4 import BeautifulSoup\n",
        "import requests\n",
        "import json\n",
        "import re\n",
        "\n",
        "def get_hotel(hotel_name):\n",
        "    try:\n",
        "      url = 'https://www.travelweekly.com/AutoComplete.asmx/GetCompleteList'\n",
        "      headers = {\n",
        "          'content-type': 'application/json; charset=UTF-8',\n",
        "          'origin': 'https://www.travelweekly.com',\n",
        "          'referer': 'https://www.travelweekly.com/Hotels/Destinations,United-States',\n",
        "          'user-agent': 'Mozilla/5.0 (Macintosh; Intel Mac OS X 10_15_7) AppleWebKit/537.36 (KHTML, like Gecko) Chrome/128.0.0.0 Safari/537.36'\n",
        "      }\n",
        "      data = json.dumps({\"Request\": {\"Term\": hotel_name.split(', an')[0], \"Context\": \"HOT\"}}).encode('utf-8')\n",
        "      response = requests.post(url, headers=headers, data=data)\n",
        "      for res in response.json()['d']:\n",
        "          if res['Type'] == 'HOT' and res['URL'] != None:\n",
        "              r = requests.get(f\"https://www.travelweekly.com{res['URL']}\", headers={'User-Agent': 'Mozilla/5.0 (Macintosh; Intel Mac OS X 10_15_7) AppleWebKit/537.36 (KHTML, like Gecko) Chrome/128.0.0.0 Safari/537.36'})\n",
        "              return extract_hotel_info(r.text)\n",
        "      return {}\n",
        "    except:\n",
        "      return {}\n",
        "\n",
        "def extract_hotel_info(html):\n",
        "    soup = BeautifulSoup(html, 'html.parser')\n",
        "    info = {}\n",
        "    # 'travelweekly_year_renovated': ',\n",
        "    # elif 'Year Last Renovated:' in text:\n",
        "        # info['travelweekly_year_renovated'] = int(text.split('Year Last Renovated:')[1].strip().replace(',', ''))\n",
        "    rooms_div = soup.find('p', class_='hotel-rooms')\n",
        "    if rooms_div:\n",
        "        info['travelweekly_num_rooms'] = int(rooms_div.get_text(strip=True).split('Rooms:')[1].strip().replace(',', ''))\n",
        "    rates_div = soup.find('p', class_='hotel-rates')\n",
        "    if rates_div:\n",
        "        info['travelweekly_min_rate'] = int(rates_div.get_text(strip=True).split('Rates:')[1].split('-')[0].strip().replace(',', '').replace('$', ''))\n",
        "        info['travelweekly_max_rate'] = int(rates_div.get_text(strip=True).split('Rates:')[1].split('-')[1].strip().replace(',', '').replace('$', ''))\n",
        "    details_list = soup.find('div', class_='hotel-information-details')\n",
        "    if details_list:\n",
        "        for li in details_list.find_all('p'):\n",
        "            text = li.get_text(strip=True)\n",
        "            if 'Year Built:' in text:\n",
        "                info['travelweekly_year_built'] = int(text.split('Year Built:')[1].strip().replace(',', ''))\n",
        "            elif 'Number of Floors:' in text:\n",
        "                info['travelweekly_num_floors'] = int(text.split('Number of Floors:')[1].strip().replace(',', ''))\n",
        "            elif 'Chain:' in text:\n",
        "                info['travelweekly_chain'] = text.split('Chain:')[1].strip()\n",
        "    events_list = soup.find('div', class_='event-space row')\n",
        "    if events_list:\n",
        "        for p in events_list.find_all('p'):\n",
        "            text = p.get_text(strip=True)\n",
        "            if 'Total number of meeting rooms:' in text:\n",
        "                info['travelweekly_events_num_rooms'] = int(text.split('Total number of meeting rooms:')[1].strip().replace(',', ''))\n",
        "            if 'Total event space:' in text:\n",
        "                info['travelweekly_events_total_sqft'] = int(text.split('Total event space:')[1].split('sq')[0].strip().replace(',', ''))\n",
        "    return info\n"
      ]
    },
    {
      "cell_type": "code",
      "source": [
        "import seaborn as sns\n",
        "import matplotlib.pyplot as plt\n",
        "import numpy as np\n",
        "import pandas as pd\n",
        "from sklearn.model_selection import train_test_split\n",
        "\n",
        "basic = pd.read_csv('data/final_data.csv')\n",
        "basic = basic.dropna()"
      ],
      "metadata": {
        "id": "ZJPopF9SuQda"
      },
      "execution_count": null,
      "outputs": []
    },
    {
      "cell_type": "code",
      "source": [
        "print(len(basic), basic.columns, len(basic.columns))"
      ],
      "metadata": {
        "id": "-4ESGTYduRHB"
      },
      "execution_count": null,
      "outputs": []
    },
    {
      "cell_type": "code",
      "source": [
        "rows = []\n",
        "\n",
        "for index, row in basic.iterrows():\n",
        "    fetched = get_hotel(f\"{row['name']} {row['city'].replace('_', '')}\")\n",
        "    if fetched and fetched != {}:\n",
        "      rows.append(row.to_list() + list(fetched.values()))\n",
        "    if index % 10 == 0:\n",
        "      print(index, len(rows))"
      ],
      "metadata": {
        "id": "qFJoHDuwuWDp"
      },
      "execution_count": null,
      "outputs": []
    }
  ]
}